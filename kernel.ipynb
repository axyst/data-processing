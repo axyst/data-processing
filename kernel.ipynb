{
  "cells": [
    {
      "metadata": {
        "_uuid": "8f2839f25d086af736a60e9eeb907d3b93b6e0e5",
        "_cell_guid": "b1076dfc-b9ad-4769-8c92-a6c4dae69d19",
        "trusted": true,
        "collapsed": true
      },
      "cell_type": "code",
      "source": "import pandas as pd\nimport numpy as np\nimport matplotlib.pyplot as plt\nimport seaborn as sns\nimport xgboost as xgb\nimport lightgbm as lgb\nfrom sklearn.linear_model import LinearRegression, RidgeCV, LassoCV, ElasticNetCV, ElasticNet, Lasso, BayesianRidge, LassoLarsIC\nfrom sklearn.ensemble import RandomForestRegressor,  GradientBoostingRegressor\nfrom sklearn.kernel_ridge import KernelRidge\nfrom sklearn.pipeline import make_pipeline\nfrom sklearn.base import BaseEstimator, TransformerMixin, RegressorMixin, clone\nfrom sklearn.model_selection import KFold, cross_val_score, train_test_split\nfrom sklearn.preprocessing import StandardScaler, Imputer, RobustScaler\nfrom sklearn.metrics import mean_squared_error, make_scorer\nfrom IPython.display import display\nfrom IPython import get_ipython\nfrom scipy import stats\nfrom scipy.stats import norm, skew\n\nimport matplotlib.image as mpimg\nfrom sklearn.metrics import confusion_matrix\nimport itertools\nfrom keras.utils.np_utils import to_categorical # convert to one-hot-encoding\nfrom keras.models import Sequential\nfrom keras.layers import Dense, Dropout, Flatten, Conv2D, MaxPool2D\nfrom keras.optimizers import RMSprop\nfrom keras.preprocessing.image import ImageDataGenerator\nfrom keras.callbacks import ReduceLROnPlateau\nsns.set(style='white', context='notebook', palette='deep')\n\n# Get data\ntest = pd.read_csv(\"../input/test.csv\")\ntrain = pd.read_csv(\"../input/train.csv\")",
      "execution_count": null,
      "outputs": []
    },
    {
      "metadata": {
        "_cell_guid": "79c7e3d0-c299-4dcb-8224-4455121ee9b0",
        "_uuid": "d629ff2d2480ee46fbb7e2d37f6b5fab8052498a",
        "trusted": true,
        "collapsed": true
      },
      "cell_type": "code",
      "source": "################# 1. View Data ####################\n\n# Definitions\npd.set_option('display.float_format', lambda x: '%.3f' % x)\nget_ipython().run_line_magic('matplotlib', 'inline')\n# check the decoration\nprint(\"train : \" + str(train.shape))\nprint(train.columns)\nprint(\"test : \" + str(test.shape))\nprint(test.columns)\n# train: 42000 pictures * 784 pictures\n# test: 28000 pictures * 784 pixels\n\nprint(train.isnull().any().sum())\nprint(test.isnull().any().sum())\n# no missing values",
      "execution_count": null,
      "outputs": []
    },
    {
      "metadata": {
        "trusted": true,
        "_uuid": "7bcf4381d15fac5fb93144455bb76f62c6b0359c",
        "collapsed": true
      },
      "cell_type": "code",
      "source": "labels = train['label']\ntrain.drop(\"label\", axis=1, inplace=True)\nprint(\"train after dropping: \" + str(train.shape))\nprint(\"max value: \",(train.max().max()))\ncountplot = sns.countplot(labels)\nlabels.value_counts()",
      "execution_count": null,
      "outputs": []
    },
    {
      "metadata": {
        "trusted": true,
        "_uuid": "3c8b19a4226a39f432eb1d87bfee6b9b23f23de5",
        "collapsed": true
      },
      "cell_type": "code",
      "source": "################# 2. Data Format ####################\ntrain = train / 255\ntest = test / 255\n# 28 * 28, 1 color for each picture\ntrain = train.values.reshape(-1,28,28,1)\ntest = test.values.reshape(-1,28,28,1)\nprint('train shape: ',train.shape)\nprint('test shape: ',test.shape)",
      "execution_count": null,
      "outputs": []
    },
    {
      "metadata": {
        "trusted": true,
        "_uuid": "edc3696c426698939cf077f7addde1734abb09e2",
        "collapsed": true
      },
      "cell_type": "code",
      "source": "Y_train = pd.get_dummies(labels)\nprint('label shape: ',Y_train.shape)",
      "execution_count": null,
      "outputs": []
    },
    {
      "metadata": {
        "trusted": true,
        "_uuid": "2b0803cd7869280c0a271c880bb5fa2ce9b6b8c6",
        "collapsed": true
      },
      "cell_type": "code",
      "source": "X_train, X_val, Y_train, Y_val = train_test_split(train, Y_train, test_size = 0.1)\nprint(X_train.shape, X_val.shape, Y_train.shape, Y_val.shape)\n# 10 fold, 42000 total\n# test set: 37800 pics\n# validation set: 4200 pics\nplt.imshow(X_train[0][:,:,0])",
      "execution_count": null,
      "outputs": []
    },
    {
      "metadata": {
        "trusted": true,
        "collapsed": true,
        "_uuid": "fc0207e829720fe04f7324a122a5c239b7dc3391"
      },
      "cell_type": "code",
      "source": "################# 3. build model ####################\nCNN = Sequential()\n\ndef convrelu(model,fsize,ksize):\n    model.add(Conv2D(filters=fsize, kernel_size=ksize, padding='Same', activation='relu'))\ndef pooldrop(model):\n    model.add(MaxPool2D(pool_size=(2,2)))\n    model.add(Dropout(0.25))\n\nCNN.add(Conv2D(filters=32, kernel_size=(5,5), padding='Same', activation='relu', input_shape=(28,28,1)))\nconvrelu(CNN,32,(5,5))\npooldrop(CNN)\nconvrelu(CNN,64,(3,3))\nconvrelu(CNN,64,(3,3))\npooldrop(CNN)\nCNN.add(Flatten())\nCNN.add(Dense(256, activation='relu')) # 16 * 16\nCNN.add(Dropout(0.5))\nCNN.add(Dense(10, activation='softmax')) # 10 labels",
      "execution_count": null,
      "outputs": []
    },
    {
      "metadata": {
        "trusted": true,
        "collapsed": true,
        "_uuid": "a807f2cb96af5f3295e4bbab43da16f13befd6df"
      },
      "cell_type": "code",
      "source": "# Define the optimizer\noptimizer = RMSprop(lr=0.001, rho=0.9, epsilon=1e-08, decay=0.0)\n# Compile the model\nCNN.compile(optimizer = optimizer , loss = \"categorical_crossentropy\", metrics=[\"accuracy\"])\n# Set a learning rate annealer\nlearning_rate_reduction = ReduceLROnPlateau(monitor='val_acc', \n                                            patience=3, \n                                            verbose=1, \n                                            factor=0.5, \n                                            min_lr=0.00001)\nepochs = 30 # Turn epochs to 30 to get 0.9967 accuracy\nbatch_size = 86\n",
      "execution_count": null,
      "outputs": []
    },
    {
      "metadata": {
        "trusted": true,
        "_uuid": "110f02726092762fdf6a93215fff2b22c333aa21",
        "collapsed": true
      },
      "cell_type": "code",
      "source": "datagen = ImageDataGenerator(\n        featurewise_center=False,  # set input mean to 0 over the dataset\n        samplewise_center=False,  # set each sample mean to 0\n        featurewise_std_normalization=False,  # divide inputs by std of the dataset\n        samplewise_std_normalization=False,  # divide each input by its std\n        zca_whitening=False,  # apply ZCA whitening\n        rotation_range=10,  # randomly rotate images in the range (degrees, 0 to 180)\n        zoom_range = 0.1, # Randomly zoom image \n        width_shift_range=0.1,  # randomly shift images horizontally (fraction of total width)\n        height_shift_range=0.1,  # randomly shift images vertically (fraction of total height)\n        horizontal_flip=False,  # randomly flip images\n        vertical_flip=False)  # randomly flip images\n\n\ndatagen.fit(X_train)\n# Fit the model\nhistory = CNN.fit_generator(datagen.flow(X_train,Y_train, batch_size=batch_size),\n                              epochs = epochs, validation_data = (X_val,Y_val),\n                              verbose = 2, steps_per_epoch=X_train.shape[0] // batch_size\n                              , callbacks=[learning_rate_reduction])\n\n# https://keras-cn.readthedocs.io/en/latest/models/model/\n# flow(self, X, y, batch_size=32, shuffle=True, seed=None, save_to_dir=None, save_prefix='',\n# save_format='png')：接收numpy数组和标签为参数,生成经过数据提升或标准化后的batch数据,并在一个无限循环中不断的返回batch数据\n",
      "execution_count": null,
      "outputs": []
    },
    {
      "metadata": {
        "trusted": true,
        "_uuid": "7db7c0c51c1b29f0b8c9f1eac93620f63ceb447e",
        "collapsed": true
      },
      "cell_type": "code",
      "source": "################# 4. Model Evalutaion ####################\n# Plot the loss and accuracy curves for training and validation \nfig, ax = plt.subplots(2,1)\nax[0].plot(history.history['loss'], color='b', label=\"Training loss\")\nax[0].plot(history.history['val_loss'], color='r', label=\"validation loss\",axes =ax[0])\nlegend = ax[0].legend(loc='best', shadow=True)\n\nax[1].plot(history.history['acc'], color='b', label=\"Training accuracy\")\nax[1].plot(history.history['val_acc'], color='r',label=\"Validation accuracy\")\nlegend = ax[1].legend(loc='best', shadow=True)",
      "execution_count": null,
      "outputs": []
    },
    {
      "metadata": {
        "trusted": true,
        "_uuid": "55588a7e883a3f15555c3052913d1f5f149281e2",
        "collapsed": true
      },
      "cell_type": "code",
      "source": "# Look at confusion matrix \n\ndef plot_confusion_matrix(cm, classes,\n                          normalize=False,\n                          title='Confusion matrix',\n                          cmap=plt.cm.Blues):\n    \"\"\"\n    This function prints and plots the confusion matrix.\n    Normalization can be applied by setting `normalize=True`.\n    \"\"\"\n    plt.imshow(cm, interpolation='nearest', cmap=cmap)\n    plt.title(title)\n    plt.colorbar()\n    tick_marks = np.arange(len(classes))\n    plt.xticks(tick_marks, classes, rotation=45)\n    plt.yticks(tick_marks, classes)\n\n    if normalize:\n        cm = cm.astype('float') / cm.sum(axis=1)[:, np.newaxis]\n\n    thresh = cm.max() / 2.\n    for i, j in itertools.product(range(cm.shape[0]), range(cm.shape[1])):\n        plt.text(j, i, cm[i, j],\n                 horizontalalignment=\"center\",\n                 color=\"white\" if cm[i, j] > thresh else \"black\")\n\n    plt.tight_layout()\n    plt.ylabel('True label')\n    plt.xlabel('Predicted label')\n\n# Predict the values from the validation dataset\nY_pred = CNN.predict(X_val)\n",
      "execution_count": null,
      "outputs": []
    },
    {
      "metadata": {
        "trusted": true,
        "_uuid": "e9f6b171eef655c6cccf621f44e942833de84601",
        "collapsed": true
      },
      "cell_type": "code",
      "source": "# print(Y_pred.shape)\n# print(Y_val.shape)\n# print(Y_pred)\n# print(Y_val.head())\nY_vals = Y_val.values\n# print(Y_vals)\n# Convert predictions classes to one hot vectors \nY_pred_classes = np.argmax(Y_pred,axis = 1) \n# Convert validation observations to one hot vectors\nY_trues = np.argmax(Y_vals,axis = 1) \n# compute the confusion matrix\nconfusion_mtx = confusion_matrix(Y_trues, Y_pred_classes) \n# plot the confusion matrix\nplot_confusion_matrix(confusion_mtx, classes = range(10)) ",
      "execution_count": null,
      "outputs": []
    },
    {
      "metadata": {
        "trusted": true,
        "_uuid": "81b86817153ca464fc6a3bf215d4bedc0aa61006",
        "collapsed": true
      },
      "cell_type": "code",
      "source": "# Display some error results \n\n# Errors are difference between predicted labels and true labels\nerrors = (Y_pred_classes - Y_trues != 0)\n\nY_pred_classes_errors = Y_pred_classes[errors]\nY_pred_errors = Y_pred[errors]\nY_true_errors = Y_trues[errors]\nX_val_errors = X_val[errors]\n\ndef display_errors(errors_index,img_errors,pred_errors, obs_errors):\n    \"\"\" This function shows 6 images with their predicted and real labels\"\"\"\n    n = 0\n    nrows = 2\n    ncols = 3\n    fig, ax = plt.subplots(nrows,ncols,sharex=True,sharey=True)\n    for row in range(nrows):\n        for col in range(ncols):\n            error = errors_index[n]\n            ax[row,col].imshow((img_errors[error]).reshape((28,28)))\n            ax[row,col].set_title(\"Predicted label :{}\\nTrue label :{}\".format(pred_errors[error],obs_errors[error]))\n            n += 1\n\n# Probabilities of the wrong predicted numbers\nY_pred_errors_prob = np.max(Y_pred_errors,axis = 1)\n\n# Predicted probabilities of the true values in the error set\ntrue_prob_errors = np.diagonal(np.take(Y_pred_errors, Y_true_errors, axis=1))\n\n# Difference between the probability of the predicted label and the true label\ndelta_pred_true_errors = Y_pred_errors_prob - true_prob_errors\n\n# Sorted list of the delta prob errors\nsorted_dela_errors = np.argsort(delta_pred_true_errors)\n\n# Top 6 errors \nmost_important_errors = sorted_dela_errors[-6:]\n\n# Show the top 6 errors\ndisplay_errors(most_important_errors, X_val_errors, Y_pred_classes_errors, Y_true_errors)",
      "execution_count": null,
      "outputs": []
    },
    {
      "metadata": {
        "trusted": true,
        "collapsed": true,
        "_uuid": "7eb03fc9d110669f1b5b12d996237d2cd0a8333c"
      },
      "cell_type": "code",
      "source": "# predict results\nresults = CNN.predict(test)\n\n# select the indix with the maximum probability\nresults = np.argmax(results,axis = 1)\n\nresults = pd.Series(results,name=\"Label\")",
      "execution_count": null,
      "outputs": []
    },
    {
      "metadata": {
        "trusted": true,
        "collapsed": true,
        "_uuid": "caf3c769f8772522b9bf340318f857a7f27f89c7"
      },
      "cell_type": "code",
      "source": "submission = pd.concat([pd.Series(range(1,28001),name = \"ImageId\"),results],axis = 1)\nsubmission.to_csv(\"cnn_mnist_datagen.csv\",index=False)",
      "execution_count": null,
      "outputs": []
    }
  ],
  "metadata": {
    "kernelspec": {
      "display_name": "Python 3",
      "language": "python",
      "name": "python3"
    },
    "language_info": {
      "name": "python",
      "version": "3.6.4",
      "mimetype": "text/x-python",
      "codemirror_mode": {
        "name": "ipython",
        "version": 3
      },
      "pygments_lexer": "ipython3",
      "nbconvert_exporter": "python",
      "file_extension": ".py"
    }
  },
  "nbformat": 4,
  "nbformat_minor": 1
}