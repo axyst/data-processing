{
  "cells": [
    {
      "metadata": {
        "_uuid": "8f2839f25d086af736a60e9eeb907d3b93b6e0e5",
        "_cell_guid": "b1076dfc-b9ad-4769-8c92-a6c4dae69d19",
        "trusted": true
      },
      "cell_type": "code",
      "source": "import os\nimport pandas as pd\nimport numpy as np\nimport matplotlib.pyplot as plt\nimport seaborn as sns\nimport xgboost as xgb\nimport lightgbm as lgb\nfrom sklearn.linear_model import LinearRegression, RidgeCV, LassoCV, ElasticNetCV, ElasticNet, Lasso, BayesianRidge, LassoLarsIC\nfrom sklearn.ensemble import RandomForestRegressor,  GradientBoostingRegressor\nfrom sklearn.kernel_ridge import KernelRidge\nfrom sklearn.pipeline import make_pipeline\nfrom sklearn.base import BaseEstimator, TransformerMixin, RegressorMixin, clone\nfrom sklearn.model_selection import KFold, cross_val_score, train_test_split\nfrom sklearn.preprocessing import StandardScaler, Imputer, RobustScaler\nfrom sklearn.metrics import mean_squared_error, make_scorer\nfrom IPython.display import display\nfrom IPython import get_ipython\nfrom scipy import stats\nfrom scipy.stats import norm, skew\n\nimport matplotlib.image as mpimg\nfrom sklearn.metrics import confusion_matrix\nimport itertools\nfrom keras.utils.np_utils import to_categorical # convert to one-hot-encoding\nfrom keras.models import Sequential\nfrom keras.layers import Dense, Dropout, Flatten, Conv2D, MaxPool2D\nfrom keras.optimizers import RMSprop\nfrom keras.preprocessing.image import ImageDataGenerator\nfrom keras.callbacks import ReduceLROnPlateau\n\n\n# Definitions\nsns.set(style='white', context='notebook', palette='deep')\npd.set_option('display.float_format', lambda x: '%.3f' % x)\npd.set_option('display.max_columns', None)\nget_ipython().run_line_magic('matplotlib', 'inline')\nprint(os.listdir(\"../input\"))\n",
      "execution_count": null,
      "outputs": []
    },
    {
      "metadata": {
        "_cell_guid": "79c7e3d0-c299-4dcb-8224-4455121ee9b0",
        "_uuid": "d629ff2d2480ee46fbb7e2d37f6b5fab8052498a",
        "trusted": true
      },
      "cell_type": "code",
      "source": "################# 1. View Data ####################\n\n\n\n# Get data\ntest = pd.read_csv(\"../input/test.csv\")\ntrain = pd.read_csv(\"../input/train.csv\")\nprint(\"train : \" + str(train.shape))\nprint(\"test : \" + str(test.shape))\n\n# check the decoration\nprint(train.info())\n\n# Save the 'Id' column\ntrain_ID = train['Id']\ntest_ID = test['Id']",
      "execution_count": null,
      "outputs": []
    },
    {
      "metadata": {
        "trusted": true,
        "_uuid": "7c83d646b970bb58b785f5ace6e3816e3f4efb78"
      },
      "cell_type": "code",
      "source": "train.head()",
      "execution_count": null,
      "outputs": []
    },
    {
      "metadata": {
        "trusted": true,
        "_uuid": "1b769c9dfa080cf664c743cc0a86baa6e04f6fb4"
      },
      "cell_type": "code",
      "source": "# Now drop the  'Id' colum since it's unnecessary for  the prediction process.\ntrain.drop(\"Id\", axis=1, inplace=True)\ntest.drop(\"Id\", axis=1, inplace=True)\n\nprint(\"train after dropping: \" + str(train.shape))\nprint(\"test after dropping: \" + str(test.shape))\n\n# check description\nprint(train['SalePrice'].describe())\n",
      "execution_count": null,
      "outputs": []
    },
    {
      "metadata": {
        "trusted": true,
        "_uuid": "1f261f4a74b9a0b25e3ac95d82fd1d2e857396f9"
      },
      "cell_type": "code",
      "source": "# empty value\nna = train.isnull().sum()\nprint(na[na>0])",
      "execution_count": null,
      "outputs": []
    },
    {
      "metadata": {
        "trusted": true,
        "_uuid": "f0c00f2dff5415052d61bf86c972702956d6ef97"
      },
      "cell_type": "code",
      "source": "################# 2. Outlier ####################\n\n# standardizing data\nsaleprice_scaled = StandardScaler().fit_transform(\n    train['SalePrice'][:, np.newaxis])\nlow_range = saleprice_scaled[saleprice_scaled[:, 0].argsort()][:10]\nhigh_range = saleprice_scaled[saleprice_scaled[:, 0].argsort()][-10:]\nprint('outer range (low) of the distribution:')\nprint(low_range)\nprint('\\nouter range (high) of the distribution:')\nprint(high_range)\n",
      "execution_count": null,
      "outputs": []
    },
    {
      "metadata": {
        "trusted": true,
        "_uuid": "fec42420c037499948361d85b1ecdbfc97c09eec"
      },
      "cell_type": "code",
      "source": "# Draw graph\nfig, ax = plt.subplots()\nax.scatter(x=train['GrLivArea'], y=train['SalePrice'])\nplt.ylabel('SalePrice', fontsize=13)\nplt.xlabel('GrLivArea', fontsize=13)\nplt.show()\n",
      "execution_count": null,
      "outputs": []
    },
    {
      "metadata": {
        "trusted": true,
        "collapsed": true,
        "_uuid": "6cedc8a25efaa8158a97bbe214f38993a1296876"
      },
      "cell_type": "code",
      "source": "# Deleting outliers\ntrain = train.drop(train[(train['GrLivArea'] > 4000) &\n                         (train['SalePrice'] < 300000)].index)",
      "execution_count": null,
      "outputs": []
    },
    {
      "metadata": {
        "trusted": true,
        "_uuid": "52a343a52e1fc698e33e4ef045f50895a21ad3f0"
      },
      "cell_type": "code",
      "source": "################# 3. Data distribution ####################\n\n# Check Normality, Homoscedasticity, Linearity, Absence of correlated errors\n\n# normality check\n\nsns.distplot(train['SalePrice'], fit=norm)\n# Get the fitted parameters used by the function\n(mu, sigma) = norm.fit(train['SalePrice'])\nprint('\\n mu = {:.2f} and sigma = {:.2f}\\n'.format(mu, sigma))\n# Now plot the distribution\nplt.legend(['Normal dist. ($\\mu=$ {:.2f} and $\\sigma=$ {:.2f} )'.format(mu, sigma)],\n           loc='best')\nplt.ylabel('Frequency')\nplt.title('SalePrice distribution')\n# Get also the QQ-plot\nfig = plt.figure()\nres = stats.probplot(train['SalePrice'], plot=plt)\nplt.show()",
      "execution_count": null,
      "outputs": []
    },
    {
      "metadata": {
        "trusted": true,
        "_uuid": "ffea67ad461470c0b1a83d952734a0c496547762"
      },
      "cell_type": "code",
      "source": "# We use the numpy fuction log1p which  applies log(1+x) to all elements of the column\ntrain[\"SalePrice\"] = np.log1p(train[\"SalePrice\"])\n# Check the new distribution\nsns.distplot(train['SalePrice'], fit=norm)\n# Get the fitted parameters used by the function\n(mu, sigma) = norm.fit(train['SalePrice'])\nprint('\\n mu = {:.2f} and sigma = {:.2f}\\n'.format(mu, sigma))\n# Now plot the distribution\nplt.legend(['Normal dist. ($\\mu=$ {:.2f} and $\\sigma=$ {:.2f} )'.format(mu, sigma)],\n           loc='best')\nplt.ylabel('Frequency')\nplt.title('SalePrice distribution')\n# Get also the QQ-plot\nfig = plt.figure()\nres = stats.probplot(train['SalePrice'], plot=plt)\nplt.show()",
      "execution_count": null,
      "outputs": []
    },
    {
      "metadata": {
        "trusted": true,
        "_uuid": "fecda8b9e82221c9035c333155151875e7835a16"
      },
      "cell_type": "code",
      "source": "################# 4. Missing Values ####################\n\n# concat data\nntrain = train.shape[0]\nntest = test.shape[0]\ny_train = train.SalePrice.values\nall_data = pd.concat((train, test)).reset_index(drop=True)\nall_data.drop(['SalePrice'], axis=1, inplace=True)\nprint(\"all_data size is : {}\".format(all_data.shape))\n\n# view missing values(1)\n\ntotal = all_data.isnull().sum().sort_values(ascending=False)\npercent = (all_data.isnull().sum()/all_data.isnull().count()\n           ).sort_values(ascending=False)\nmissing_data = pd.concat([total, percent], axis=1, keys=['Total', 'Percent'])\nmissing_data",
      "execution_count": null,
      "outputs": []
    },
    {
      "metadata": {
        "_kg_hide-output": true,
        "trusted": true,
        "_uuid": "04dd5240ee6cfe657a2211e5d1a119e210454911"
      },
      "cell_type": "code",
      "source": "# percentage of mode\n\nmodes = all_data.mode()\nlen_den = len(all_data)\nfor mode in modes:\n    val = modes[mode][0]\n    leg_num = len(all_data.loc[all_data[mode] == val])\n    print(mode,leg_num/len_den)\n\n",
      "execution_count": null,
      "outputs": []
    },
    {
      "metadata": {
        "trusted": true,
        "_uuid": "e0900bbbcfc47c8787f1261da14bb150024c0793"
      },
      "cell_type": "code",
      "source": "all_data[all_data['BsmtFinSF2'].notnull()].head()",
      "execution_count": null,
      "outputs": []
    },
    {
      "metadata": {
        "trusted": true,
        "_uuid": "6e4804403bd2ccd989207b2316eae396e04bffd0"
      },
      "cell_type": "code",
      "source": "all_data[all_data['BsmtUnfSF'].isnull()].head()",
      "execution_count": null,
      "outputs": []
    },
    {
      "metadata": {
        "trusted": true,
        "collapsed": true,
        "_uuid": "0195dea469346a0fcab500c5574a8731b8c6c02f"
      },
      "cell_type": "code",
      "source": "# Handle missing values for features where median/mean or most common value doesn't make sense\n# drop features that has too much missing values\n\nall_data = all_data.drop(['PoolQC'], axis=1)\nall_data = all_data.drop(['MiscFeature'], axis=1)\nall_data = all_data.drop(['Alley'], axis=1)\nall_data = all_data.drop(['Fence'], axis=1)\nall_data = all_data.drop(['FireplaceQu'], axis=1)\n# fill na with \"0\", or some string\nall_data.loc[:, \"MasVnrArea\"] = all_data.loc[:, \"MasVnrArea\"].fillna(0)\nfor col in ('GarageYrBlt','GarageCars', 'GarageArea'):\n    all_data[col] = all_data[col].fillna(0)\nfor col in ('BsmtHalfBath','BsmtFullBath', 'TotalBsmtSF','BsmtUnfSF','BsmtFinSF1','BsmtFinSF2'):\n    all_data[col] = all_data[col].fillna(0)\n    \nall_data.loc[:, \"MasVnrType\"] = all_data.loc[:, \"MasVnrType\"].fillna('None')\nfor col in ('GarageType', 'GarageFinish', 'GarageQual', 'GarageCond'):\n    all_data[col] = all_data[col].fillna('None')\nfor col in ('BsmtCond', 'BsmtExposure', 'BsmtFinType1', 'BsmtFinType2','BsmtQual'):\n    all_data[col] = all_data[col].fillna('None')\n# fill with median\nall_data[\"LotFrontage\"] = all_data.groupby(\"Neighborhood\")[\"LotFrontage\"].transform(\n    lambda x: x.fillna(x.median()))\n# fill with mode\nall_data['MSZoning'] = all_data['MSZoning'].fillna(all_data['MSZoning'].mode()[0])\nall_data['Utilities'] = all_data['Utilities'].fillna(all_data['Utilities'].mode()[0])\nall_data['Functional'] = all_data['Functional'].fillna(all_data['Functional'].mode()[0])\nall_data['SaleType'] = all_data['SaleType'].fillna(all_data['SaleType'].mode()[0])\nall_data['KitchenQual'] = all_data['KitchenQual'].fillna(all_data['KitchenQual'].mode()[0])\nall_data['Exterior1st'] = all_data['Exterior1st'].fillna(all_data['Exterior1st'].mode()[0])\nall_data['Exterior2nd'] = all_data['Exterior2nd'].fillna(all_data['Exterior2nd'].mode()[0])\nall_data['Electrical'] = all_data['Electrical'].fillna(all_data['Electrical'].mode()[0])",
      "execution_count": null,
      "outputs": []
    },
    {
      "metadata": {
        "trusted": true,
        "_uuid": "6f56585930d58e960cdc9b1519108a7d23759e6f"
      },
      "cell_type": "code",
      "source": "# Check remaining missing values if any\nall_data_na = (all_data.isnull().sum() / len(all_data)) * 100\nall_data_na = all_data_na.drop(\n    all_data_na[all_data_na == 0].index).sort_values(ascending=False)\nmissing_data = pd.DataFrame({'Missing Ratio': all_data_na})\nmissing_data.head()",
      "execution_count": null,
      "outputs": []
    },
    {
      "metadata": {
        "trusted": true,
        "_uuid": "1ce68430e0b9bb7e443a7fd86f18881451a22394"
      },
      "cell_type": "code",
      "source": "################# 5. View Features ####################\n\n# Analyze each of features carefully. type, category in the question, relation to prediction, duplicate or not, missing case number\n\n# correlation matrix\ncorrmat = train.corr()\nf, ax = plt.subplots(figsize=(12, 9))\nsns.heatmap(corrmat, vmax=.8, square=True)\n\n",
      "execution_count": null,
      "outputs": []
    },
    {
      "metadata": {
        "trusted": true,
        "_uuid": "77271a8b7c01fcbd0bbf222dba01225041329927"
      },
      "cell_type": "code",
      "source": "# saleprice correlation matrix\nk = 10  # number of variables for heatmap\ncols = corrmat.nlargest(k, 'SalePrice')['SalePrice'].index\ncm = np.corrcoef(train[cols].values.T)\nsns.set(font_scale=1.25)\nhm = sns.heatmap(cm, cbar=True, annot=True, square=True, fmt='.2f', annot_kws={\n                 'size': 10}, yticklabels=cols.values, xticklabels=cols.values)\nplt.show()\n\n# found important features: 'OverallQual', 'GrLivArea', 'GarageArea', 'TotalBsmtSF', 'FullBath', 'YearBuild', 'YearRemodAdd'",
      "execution_count": null,
      "outputs": []
    },
    {
      "metadata": {
        "trusted": true,
        "_uuid": "beb0db063a117854b8eee75b504de82329de89f8"
      },
      "cell_type": "code",
      "source": "################# 6. View Important Features ####################\n\n# for important numeric feature, Looking for outliers, as indicated in https://ww2.amstat.org/publications/jse/v19n3/decock.pdf\n\nvar = ['GrLivArea', 'GarageArea', 'TotalBsmtSF','YearRemodAdd']\nfor vard in var:\n    train.plot.scatter(x=vard, y='SalePrice')\ntrain.plot.scatter(x='YearBuilt', y='SalePrice')",
      "execution_count": null,
      "outputs": []
    },
    {
      "metadata": {
        "trusted": true,
        "_uuid": "57429746fd72df601605a17c96aa2e89dc4a1360"
      },
      "cell_type": "code",
      "source": "# for important categoric feature\nf, ax = plt.subplots(figsize=(8, 6))\nfig = sns.boxplot(x='OverallQual', y='SalePrice', data=train)",
      "execution_count": null,
      "outputs": []
    },
    {
      "metadata": {
        "trusted": true,
        "_uuid": "89796a505aed3b507d8350b499bbd79657823adf"
      },
      "cell_type": "code",
      "source": "fig = sns.boxplot(x='FullBath', y='SalePrice', data=train)",
      "execution_count": null,
      "outputs": []
    },
    {
      "metadata": {
        "trusted": true,
        "_uuid": "4c9f4487932f7ef2568033a5cebae9dfccaf9523"
      },
      "cell_type": "code",
      "source": "cols = ['SalePrice', 'OverallQual', 'GrLivArea',\n        'GarageArea', 'TotalBsmtSF','YearBuilt','YearRemodAdd']\nsns.pairplot(train[cols], size=2.5)\nplt.show()",
      "execution_count": null,
      "outputs": []
    },
    {
      "metadata": {
        "trusted": true,
        "_uuid": "f9317ab1dc6ae721acfdb519ad334dfdeee881ef"
      },
      "cell_type": "code",
      "source": "################# 7. Feature Engineering ####################\n\n\n# Log transform of the skewed numerical features to lessen impact of outliers\n# Inspired by Alexandru Papiu's script : https://www.kaggle.com/apapiu/house-prices-advanced-regression-techniques/regularized-linear-models\n# As a general rule of thumb, a skewness with an absolute value > 0.5 is considered at least moderately skewed\nnumeric_feats = all_data.dtypes[all_data.dtypes != \"object\"].index\n# Check the skew of all numerical features\nskewed_feats = all_data[numeric_feats].apply(\n    lambda x: skew(x.dropna())).sort_values(ascending=False)\nprint(\"\\nSkew in numerical features: \\n\")\nskewness = pd.DataFrame({'Skew': skewed_feats})\nskewness",
      "execution_count": null,
      "outputs": []
    },
    {
      "metadata": {
        "trusted": true,
        "_uuid": "2f1a00fafda9cb7d44b0556c4fbe6839b94f9b9c"
      },
      "cell_type": "code",
      "source": "# Box Cox Transformation of skewed features (instead of log-transformation) : This gave me a slightly better result both on leaderboard and cross-validation.\nskewness = skewness[abs(skewness) > 0.75]\nprint(\"There are {} skewed numerical features to Box Cox transform\".format(\n    skewness.shape[0]))\n\nfrom scipy.special import boxcox1p\nskewed_features = skewness.index\nlam = 0.15\nfor feat in skewed_features:\n    #all_data[feat] += 1\n    all_data[feat] = boxcox1p(all_data[feat], lam)",
      "execution_count": null,
      "outputs": []
    },
    {
      "metadata": {
        "trusted": true,
        "_uuid": "8f91ff4779e91c0ce662404416eb20962b2d685a"
      },
      "cell_type": "code",
      "source": "# 1* Simplifications of existing features\nall_data[\"SimplOverallQual\"] = all_data.OverallQual.replace({1: 1, 2: 1, 3: 1,  # bad\n                                                             4: 2, 5: 2, 6: 2,  # average\n                                                             7: 3, 8: 3, 9: 3, 10: 3  # good\n                                                             })\n\n# 2* Combinations of existing features\n# Overall quality of the house\nall_data[\"OverallGrade\"] = all_data[\"OverallQual\"] * all_data[\"OverallCond\"]",
      "execution_count": null,
      "outputs": []
    },
    {
      "metadata": {
        "trusted": true,
        "_uuid": "08ddf22494e4b26e5628e0ba9bca0b0b6d712dc6"
      },
      "cell_type": "code",
      "source": "# 3* Polynomials on the top 10 existing features\nall_data[\"OverallQual-s2\"] = all_data[\"OverallQual\"] ** 2\nall_data[\"OverallQual-s3\"] = all_data[\"OverallQual\"] ** 3",
      "execution_count": null,
      "outputs": []
    },
    {
      "metadata": {
        "trusted": true,
        "_uuid": "267d3b887b31ebeeb79f72ffbcb8f95e378e8282"
      },
      "cell_type": "code",
      "source": "\nprint('Shape all_data: {}'.format(all_data.shape))\n\n# convert categorical variable with get_dummies (onehot encoding)\nall_data = pd.get_dummies(all_data)\n\n# shape\nprint('Shape all_data: {}'.format(all_data.shape))",
      "execution_count": null,
      "outputs": []
    },
    {
      "metadata": {
        "trusted": true,
        "_uuid": "068ab265eba5e728623017e7a5cf3e9098d4ed98"
      },
      "cell_type": "code",
      "source": "train = all_data[:ntrain]\ntest = all_data[ntrain:]\nprint(\"train : \" + str(train.shape))\nprint(\"test : \" + str(test.shape))",
      "execution_count": null,
      "outputs": []
    },
    {
      "metadata": {
        "trusted": true,
        "collapsed": true,
        "_uuid": "3f02e6e9a0fcd9d4e0cdd794b2f193fafe722068"
      },
      "cell_type": "code",
      "source": "################# 9. Base model ######################\n\n# Define a cross validation strategy\n\nn_folds = 10\n\n\ndef rmsle_cv(model):\n    kf = KFold(n_folds, shuffle=True).get_n_splits(train.values)\n    rmse = np.sqrt(-cross_val_score(model, train.values, y_train,\n                                    scoring=\"neg_mean_squared_error\", cv=kf))\n    return(rmse)",
      "execution_count": null,
      "outputs": []
    },
    {
      "metadata": {
        "trusted": true,
        "collapsed": true,
        "_uuid": "82ed833b47d1a57a9f2f58db02b269d1d6feecdc"
      },
      "cell_type": "code",
      "source": "# Base models\n\n\nlasso = make_pipeline(RobustScaler(), Lasso(alpha=0.0005, random_state=1))\n\nENet = make_pipeline(RobustScaler(), ElasticNet(\n    alpha=0.0005, l1_ratio=.9, random_state=3))\n\nKRR = KernelRidge(alpha=0.6, kernel='polynomial', degree=2, coef0=2.5)\n\nGBoost = GradientBoostingRegressor(n_estimators=3000, learning_rate=0.05,\n                                   max_depth=4, max_features='sqrt',\n                                   min_samples_leaf=15, min_samples_split=10,\n                                   loss='huber', random_state=5)\n\nmodel_xgb = xgb.XGBRegressor(colsample_bytree=0.4603, gamma=0.0468,\n                             learning_rate=0.05, max_depth=3,\n                             min_child_weight=1.7817, n_estimators=2200,\n                             reg_alpha=0.4640, reg_lambda=0.8571,\n                             subsample=0.5213, silent=1,\n                             random_state=7, nthread=-1)\n\nmodel_lgb = lgb.LGBMRegressor(objective='regression', num_leaves=5,\n                              learning_rate=0.05, n_estimators=720,\n                              max_bin=55, bagging_fraction=0.8,\n                              bagging_freq=5, feature_fraction=0.2319,\n                              feature_fraction_seed=9, bagging_seed=9,\n                              min_data_in_leaf=6, min_sum_hessian_in_leaf=11)",
      "execution_count": null,
      "outputs": []
    },
    {
      "metadata": {
        "trusted": true,
        "_uuid": "ef5ff59f45dd04cc73ce254e4d9f8ccd41289c9f"
      },
      "cell_type": "code",
      "source": "# Calculate scores\n\nscore = rmsle_cv(lasso)\nprint(\"\\nLasso score: {:.4f} ({:.4f})\\n\".format(score.mean(), score.std()))\n\nscore = rmsle_cv(ENet)\nprint(\"ElasticNet score: {:.4f} ({:.4f})\\n\".format(score.mean(), score.std()))\n\nscore = rmsle_cv(KRR)\nprint(\"Kernel Ridge score: {:.4f} ({:.4f})\\n\".format(\n    score.mean(), score.std()))\n\nscore = rmsle_cv(GBoost)\nprint(\"Gradient Boosting score: {:.4f} ({:.4f})\\n\".format(\n    score.mean(), score.std()))\n\nscore = rmsle_cv(model_xgb)\nprint(\"Xgboost score: {:.4f} ({:.4f})\\n\".format(score.mean(), score.std()))\n\nscore = rmsle_cv(model_lgb)\nprint(\"LGBM score: {:.4f} ({:.4f})\\n\" .format(score.mean(), score.std()))",
      "execution_count": null,
      "outputs": []
    },
    {
      "metadata": {
        "trusted": true,
        "_uuid": "76cd91e8e63f5ba740a2d5b2e7f37af7c99e312b"
      },
      "cell_type": "code",
      "source": "################# 10. Stack model ######################\n\n# A. Averaging base models\n\nclass AveragingModels(BaseEstimator, RegressorMixin, TransformerMixin):\n    def __init__(self,models):\n        self.models = models\n    \n    def fit(self,X,y):\n        self.models_ =[clone(x) for x in self.models]\n        \n        # train the dataset\n        for model in self.models_:\n             model.fit(X,y)\n        \n        return self\n    \n    def predict(self,X):\n        predictions=np.column_stack([model.predict(X) for model in self.models_])\n        return np.mean(predictions,axis=1)\n\naveraged_models = AveragingModels(models=(ENet, GBoost, KRR, lasso))\nscore = rmsle_cv(averaged_models)\nprint(\" Averaged base models score: {:.4f} ({:.4f})\\n\".format(\n    score.mean(), score.std()))",
      "execution_count": null,
      "outputs": []
    },
    {
      "metadata": {
        "trusted": true,
        "_uuid": "f04552b4bac48b4ad5851adce68b2095d47ba97f"
      },
      "cell_type": "code",
      "source": "# B. Adding meta-model\n\n\nclass StackingAveragedModels(BaseEstimator, RegressorMixin, TransformerMixin):\n    def __init__(self, base_models, meta_model, n_folds=5):\n        self.base_models = base_models\n        self.meta_model = meta_model\n        self.n_folds = n_folds\n\n    # We again fit the data on clones of the original models\n    def fit(self, X, y):\n        self.base_models_ = [list() for x in self.base_models]\n        self.meta_model_ = clone(self.meta_model)\n        kfold = KFold(n_splits=self.n_folds, shuffle=True, random_state=156)\n\n        # Train cloned base models then create out-of-fold predictions\n        # that are needed to train the cloned meta-model\n        out_of_fold_predictions = np.zeros((X.shape[0], len(self.base_models)))\n        for i, model in enumerate(self.base_models):\n            for train_index, holdout_index in kfold.split(X, y):\n                instance = clone(model)\n                self.base_models_[i].append(instance)\n                instance.fit(X[train_index], y[train_index])\n                y_pred = instance.predict(X[holdout_index])\n                out_of_fold_predictions[holdout_index, i] = y_pred\n\n        # Now train the cloned meta-model using the out-of-fold predictions as new feature\n        self.meta_model_.fit(out_of_fold_predictions, y)\n        return self\n\n    # Do the predictions of all base models on the test data and use the averaged predictions as\n    # meta-features for the final prediction which is done by the meta-model\n    def predict(self, X):\n        meta_features = np.column_stack([\n            np.column_stack([model.predict(X)\n                             for model in base_models]).mean(axis=1)\n            for base_models in self.base_models_])\n        return self.meta_model_.predict(meta_features)\n\n\nstacked_averaged_models = StackingAveragedModels(base_models=(ENet, GBoost, KRR),\n                                                 meta_model=lasso)\n\nscore = rmsle_cv(stacked_averaged_models)\nprint(\"Stacking Averaged models score: {:.4f} ({:.4f})\".format(\n    score.mean(), score.std()))",
      "execution_count": null,
      "outputs": []
    },
    {
      "metadata": {
        "trusted": true,
        "_uuid": "729760b5ee3783fbb5bde248799dc1c57541d773"
      },
      "cell_type": "code",
      "source": "################# 11. Final training and prediction ######################\n\n\ndef rmsle(y, y_pred):\n    return np.sqrt(mean_squared_error(y, y_pred))\n\n# view each score\n\n\nstacked_averaged_models.fit(train.values, y_train)\nstacked_train_pred = stacked_averaged_models.predict(train.values)\nstacked_pred = np.expm1(stacked_averaged_models.predict(test.values))\nprint(rmsle(y_train, stacked_train_pred))\n\nmodel_xgb.fit(train, y_train)\nxgb_train_pred = model_xgb.predict(train)\nxgb_pred = np.expm1(model_xgb.predict(test))\nprint(rmsle(y_train, xgb_train_pred))\n\nmodel_lgb.fit(train, y_train)\nlgb_train_pred = model_lgb.predict(train)\nlgb_pred = np.expm1(model_lgb.predict(test.values))\nprint(rmsle(y_train, lgb_train_pred))\n\n'''RMSE on the entire Train data when averaging'''\n\nprint('RMSLE score on train data:')\nprint(rmsle(y_train, stacked_train_pred*0.70 +\n            xgb_train_pred*0.15 + lgb_train_pred*0.15))\n\n# ensemble\nensemble = stacked_pred*0.70 + xgb_pred*0.15 + lgb_pred*0.15\n\n",
      "execution_count": null,
      "outputs": []
    },
    {
      "metadata": {
        "trusted": true,
        "collapsed": true,
        "_uuid": "70963f93dbc41f979b999a6cbb2b0c104096d6e3"
      },
      "cell_type": "code",
      "source": "# submission\n\nsub = pd.DataFrame()\nsub['Id'] = test_ID\nsub['SalePrice'] = ensemble\nsub.to_csv('submission.csv', index=False)\n",
      "execution_count": null,
      "outputs": []
    }
  ],
  "metadata": {
    "kernelspec": {
      "display_name": "Python 3",
      "language": "python",
      "name": "python3"
    },
    "language_info": {
      "name": "python",
      "version": "3.6.4",
      "mimetype": "text/x-python",
      "codemirror_mode": {
        "name": "ipython",
        "version": 3
      },
      "pygments_lexer": "ipython3",
      "nbconvert_exporter": "python",
      "file_extension": ".py"
    }
  },
  "nbformat": 4,
  "nbformat_minor": 1
}